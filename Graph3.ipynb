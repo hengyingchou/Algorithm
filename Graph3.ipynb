{
 "cells": [
  {
   "cell_type": "code",
   "execution_count": 1,
   "metadata": {},
   "outputs": [],
   "source": [
    "from itertools import combinations\n",
    "from random import random\n",
    "import numpy as np\n",
    "import timeit \n",
    "class AdjNode:\n",
    "    def __init__(self, value):\n",
    "        self.vertex = value\n",
    "        self.next = None\n",
    "        self.color = None\n",
    "\n",
    "class Graph:\n",
    "    def __init__(self, num):\n",
    "        self.V = num\n",
    "        self.graph = [None] * self.V\n",
    "    \n",
    "    def add_edge(self, s, d):\n",
    "        node = AdjNode(d)\n",
    "        node.next = self.graph[s]\n",
    "        self.graph[s] = node\n",
    "        \n",
    "        node = AdjNode(s)\n",
    "        node.next = self.graph[d]\n",
    "        self.graph[d] = node\n",
    "        \n",
    "\n",
    "    # Print the graph\n",
    "    def print_agraph(self):\n",
    "        for i in range(self.V):\n",
    "            print(\"Vertex \" + str(i) + \":\", end=\"\")\n",
    "            temp = self.graph[i]\n",
    "            while temp:\n",
    "                print(\" -> {}\".format(temp.vertex), end=\"\")\n",
    "                temp = temp.next\n",
    "            print(\" \\n\")\n",
    "            \n",
    "    def vertex_degree(self):\n",
    "        \n",
    "        x = np.zeros(self.V)\n",
    "        for i in range(self.V):\n",
    "            count = 0;\n",
    "            temp = self.graph[i]\n",
    "            while temp:\n",
    "                count = count + 1\n",
    "                temp = temp.next\n",
    "            x[count] = x[count] + 1\n",
    "        return x\n",
    "    \n",
    "    \n",
    "    \n",
    "    def color(self):    \n",
    "        node = np.zeros(self.V)\n",
    "        for i in range(self.V):\n",
    "            color = list(np.arange(1,1000,1))\n",
    "            temp = self.graph[i]\n",
    "            while temp:\n",
    "                n = temp.vertex\n",
    "                if(node[n] in color):\n",
    "                    color.remove(node[n])\n",
    "                temp = temp.next\n",
    "            node[i] = min(color)\n",
    "        return node\n",
    "        \n",
    "            \n",
    "            \n",
    "    def ER(self,p):\n",
    "        n = self.V\n",
    "        V = set([v for v in range(n)])\n",
    "        for combination in combinations(V, 2):\n",
    "            if random() <= p:\n",
    "                self.add_edge(combination[0],combination[1])    \n",
    "    ## change code\n",
    "    def BFS2(self, root):\n",
    "        graph = self.graph\n",
    "        current_level = []\n",
    "        current_level.append(root)\n",
    "        level = 0;\n",
    "        vs = set();\n",
    "        vs.add(root)\n",
    "        while(current_level != []):\n",
    "            new =[]\n",
    "            for neigh in current_level:\n",
    "                node = graph[neigh]\n",
    "                while(node != None):\n",
    "                    d = node.vertex\n",
    "                    if(d not in vs) :\n",
    "                        vs.add(d)\n",
    "                        new.append(d)\n",
    "                    node = node.next\n",
    "            current_level = new           \n",
    "            level = level + 1        \n",
    "        level = level - 1\n",
    "        return level  \n",
    "            \n",
    "    def max_diameter(self):\n",
    "        a = 0\n",
    "        for i in range(self.V):\n",
    "            a = max(self.BFS(i),a)\n",
    "        return a\n",
    "            \n",
    "if __name__ == \"__main__\":\n",
    "    graph = Graph(10)\n",
    "    p = np.arange(0.002,0.022,0.002)\n",
    "    q = np.zeros(len(p))\n",
    "    for i in range(len(p)):\n",
    "        graph.ER(p[i])\n",
    "        r = graph.color()\n",
    "        q[i] = max(r)  "
   ]
  },
  {
   "cell_type": "code",
   "execution_count": 6,
   "metadata": {},
   "outputs": [
    {
     "name": "stdout",
     "output_type": "stream",
     "text": [
      "17.0\n"
     ]
    }
   ],
   "source": [
    "print(sum(q)/len(q))"
   ]
  },
  {
   "cell_type": "code",
   "execution_count": 51,
   "metadata": {},
   "outputs": [
    {
     "data": {
      "image/png": "[encoded data removed]",
      "text/plain": [
       "<Figure size 1080x360 with 1 Axes>"
      ]
     },
     "metadata": {
      "needs_background": "light"
     },
     "output_type": "display_data"
    }
   ],
   "source": [
    "import matplotlib.pyplot as plt\n",
    "import numpy as np\n",
    "\n",
    "ax = plt.figure(figsize = (15,5))\n",
    "plt.grid(True)\n",
    "\n",
    "plt.plot(p,q,'o-')\n",
    "\n",
    "plt.xlabel('P',fontsize = 20)\n",
    "plt.ylabel('Number of colors',fontsize = 20)\n",
    "plt.savefig('problem5.jpg')\n"
   ]
  },
  {
   "cell_type": "code",
   "execution_count": 52,
   "metadata": {},
   "outputs": [
    {
     "name": "stdout",
     "output_type": "stream",
     "text": [
      "[ 4.  6.  9. 12. 14. 18. 20. 25. 28. 33.]\n"
     ]
    }
   ],
   "source": [
    "print(q)"
   ]
  },
  {
   "cell_type": "code",
   "execution_count": 37,
   "metadata": {},
   "outputs": [
    {
     "name": "stdout",
     "output_type": "stream",
     "text": [
      "Vertex 0: -> 9 -> 8 -> 7 -> 6 -> 5 -> 4 -> 3 -> 2 -> 1 \n",
      "\n",
      "Vertex 1: -> 9 -> 8 -> 7 -> 5 -> 4 -> 3 -> 2 -> 0 \n",
      "\n",
      "Vertex 2: -> 9 -> 8 -> 7 -> 6 -> 5 -> 4 -> 3 -> 1 -> 0 \n",
      "\n",
      "Vertex 3: -> 9 -> 8 -> 6 -> 5 -> 4 -> 2 -> 1 -> 0 \n",
      "\n",
      "Vertex 4: -> 9 -> 8 -> 6 -> 3 -> 2 -> 1 -> 0 \n",
      "\n",
      "Vertex 5: -> 9 -> 8 -> 6 -> 3 -> 2 -> 1 -> 0 \n",
      "\n",
      "Vertex 6: -> 9 -> 8 -> 7 -> 5 -> 4 -> 3 -> 2 -> 0 \n",
      "\n",
      "Vertex 7: -> 8 -> 6 -> 2 -> 1 -> 0 \n",
      "\n",
      "Vertex 8: -> 9 -> 7 -> 6 -> 5 -> 4 -> 3 -> 2 -> 1 -> 0 \n",
      "\n",
      "Vertex 9: -> 8 -> 6 -> 5 -> 4 -> 3 -> 2 -> 1 -> 0 \n",
      "\n"
     ]
    }
   ],
   "source": [
    "graph.print_agraph()"
   ]
  },
  {
   "cell_type": "code",
   "execution_count": null,
   "metadata": {},
   "outputs": [],
   "source": []
  }
 ],
 "metadata": {
  "kernelspec": {
   "display_name": "Python 3",
   "language": "python",
   "name": "python3"
  },
  "language_info": {
   "codemirror_mode": {
    "name": "ipython",
    "version": 3
   },
   "file_extension": ".py",
   "mimetype": "text/x-python",
   "name": "python",
   "nbconvert_exporter": "python",
   "pygments_lexer": "ipython3",
   "version": "3.7.4"
  }
 },
 "nbformat": 4,
 "nbformat_minor": 2
}
