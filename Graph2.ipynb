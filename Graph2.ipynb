{
 "cells": [
  {
   "cell_type": "code",
   "execution_count": 6,
   "metadata": {},
   "outputs": [],
   "source": [
    "from itertools import combinations\n",
    "from random import random\n",
    "import numpy as np\n",
    "import timeit \n",
    "class AdjNode:\n",
    "    def __init__(self, value):\n",
    "        self.vertex = value\n",
    "        self.next = None\n",
    "\n",
    "class Graph:\n",
    "    def __init__(self, num):\n",
    "        self.V = num\n",
    "        self.graph = [None] * self.V\n",
    "    \n",
    "    def add_edge(self, s, d):\n",
    "        node = AdjNode(d)\n",
    "        node.next = self.graph[s]\n",
    "        self.graph[s] = node\n",
    "        \n",
    "        node = AdjNode(s)\n",
    "        node.next = self.graph[d]\n",
    "        self.graph[d] = node\n",
    "\n",
    "    # Print the graph\n",
    "    def print_agraph(self):\n",
    "        for i in range(self.V):\n",
    "            print(\"Vertex \" + str(i) + \":\", end=\"\")\n",
    "            temp = self.graph[i]\n",
    "            while temp:\n",
    "                print(\" -> {}\".format(temp.vertex), end=\"\")\n",
    "                temp = temp.next\n",
    "            print(\" \\n\")\n",
    "            \n",
    "    def vertex_degree(self):\n",
    "        \n",
    "        x = np.zeros(self.V)\n",
    "        for i in range(self.V):\n",
    "            count = 0\n",
    "            temp = self.graph[i]\n",
    "            while temp:\n",
    "                count = count + 1\n",
    "                temp = temp.next\n",
    "            x[i] = count\n",
    "            \n",
    "            \n",
    "        \n",
    "        return x\n",
    "            \n",
    "            \n",
    "    def ER(self,p):\n",
    "        n = self.V\n",
    "        V = set([v for v in range(n)])\n",
    "        for combination in combinations(V, 2):\n",
    "            if random() <= p:\n",
    "                self.add_edge(combination[0],combination[1])    \n",
    "    ## change code\n",
    "    def BFS2(self, root):\n",
    "        graph = self.graph\n",
    "        current_level = []\n",
    "        current_level.append(root)\n",
    "        level = 0;\n",
    "        vs = set();\n",
    "        vs.add(root)\n",
    "        while(current_level != []):\n",
    "            new =[]\n",
    "            for neigh in current_level:\n",
    "                node = graph[neigh]\n",
    "                while(node != None):\n",
    "                    d = node.vertex\n",
    "                    if(d not in vs) :\n",
    "                        vs.add(d)\n",
    "                        new.append(d)\n",
    "                    node = node.next\n",
    "            current_level = new           \n",
    "            level = level + 1        \n",
    "        level = level - 1\n",
    "        return level  \n",
    "            \n",
    "    def max_diameter(self):\n",
    "        a = 0\n",
    "        for i in range(self.V):\n",
    "            a = max(self.BFS(i),a)\n",
    "        return a\n",
    "            \n",
    "if __name__ == \"__main__\":\n",
    "    graph = Graph(1000)\n",
    "    p = np.arange(0.022,0.001, -0.002)\n",
    "    s = np.zeros([len(p),1000])\n",
    "    for i in range(len(p)):\n",
    "        graph.ER(p[i])\n",
    "        s[i,:] = graph.vertex_degree()\n",
    "  "
   ]
  },
  {
   "cell_type": "code",
   "execution_count": 8,
   "metadata": {},
   "outputs": [
    {
     "data": {
      "text/plain": [
       "<matplotlib.legend.Legend at 0x7fbb84234390>"
      ]
     },
     "execution_count": 8,
     "metadata": {},
     "output_type": "execute_result"
    },
    {
     "data": {
      "image/png": "[encoded data removed]",
      "text/plain": [
       "<Figure size 1080x360 with 1 Axes>"
      ]
     },
     "metadata": {
      "needs_background": "light"
     },
     "output_type": "display_data"
    }
   ],
   "source": [
    "import matplotlib.pyplot as plt\n",
    "import numpy as np\n",
    "\n",
    "ax = plt.figure(figsize = (15,5))\n",
    "plt.grid(True)\n",
    "\n",
    "\n",
    "for i in range(len(p)):\n",
    "    graph = Graph(1000)\n",
    "    graph.ER(p[i])\n",
    "    t = graph.vertex_degree()\n",
    "    plt.hist(t,label = round(p[i],3))\n",
    "\n",
    "plt.xlabel('degree',fontsize = 20)\n",
    "plt.ylabel('Number of vertex',fontsize = 20)\n",
    "plt.savefig('problem4_2.jpg')\n",
    "plt.legend()"
   ]
  },
  {
   "cell_type": "code",
   "execution_count": 106,
   "metadata": {},
   "outputs": [
    {
     "name": "stdout",
     "output_type": "stream",
     "text": [
      "[4. 2. 0. 0. 0. 3. 1. 1. 1. 1. 3. 4. 0. 2. 2. 4. 3. 0. 2. 1. 3. 2. 1. 0.\n",
      " 0. 2. 1. 4. 2. 2. 0. 1. 1. 3. 5. 0. 2. 1. 3. 3. 2. 3. 3. 0. 4. 2. 0. 3.\n",
      " 2. 6. 1. 3. 4. 1. 1. 6. 0. 0. 3. 0. 4. 4. 1. 3. 0. 5. 0. 3. 1. 2. 0. 2.\n",
      " 1. 1. 0. 3. 2. 1. 3. 3. 1. 3. 2. 2. 0. 1. 3. 0. 2. 1. 0. 4. 2. 2. 1. 3.\n",
      " 1. 2. 1. 0. 1. 3. 4. 0. 3. 5. 2. 1. 1. 3. 5. 1. 3. 2. 4. 4. 4. 1. 3. 2.\n",
      " 1. 2. 2. 3. 1. 0. 0. 0. 0. 3. 0. 2. 5. 3. 0. 2. 2. 2. 1. 4. 2. 2. 1. 3.\n",
      " 0. 2. 1. 3. 2. 3. 1. 4. 5. 2. 2. 2. 1. 1. 1. 3. 0. 1. 2. 2. 0. 3. 3. 4.\n",
      " 0. 0. 2. 2. 3. 1. 4. 1. 1. 1. 3. 3. 3. 3. 6. 1. 0. 2. 0. 2. 3. 0. 4. 4.\n",
      " 1. 2. 3. 0. 2. 2. 4. 2. 0. 2. 5. 0. 1. 2. 1. 1. 4. 2. 4. 3. 2. 1. 2. 1.\n",
      " 3. 3. 6. 2. 1. 1. 1. 3. 1. 1. 1. 1. 1. 1. 1. 1. 2. 2. 1. 2. 3. 1. 1. 1.\n",
      " 2. 2. 1. 1. 1. 1. 0. 2. 1. 1. 1. 3. 3. 2. 2. 2. 2. 2. 2. 0. 5. 1. 3. 4.\n",
      " 5. 1. 5. 1. 0. 2. 2. 2. 2. 2. 0. 3. 0. 5. 3. 3. 4. 1. 4. 5. 2. 1. 1. 2.\n",
      " 1. 1. 2. 2. 2. 3. 0. 1. 0. 1. 4. 0. 1. 1. 1. 1. 1. 2. 1. 0. 3. 2. 1. 3.\n",
      " 2. 1. 5. 1. 6. 1. 3. 2. 7. 3. 1. 1. 3. 2. 5. 3. 2. 1. 4. 3. 3. 0. 4. 0.\n",
      " 0. 4. 0. 3. 1. 0. 2. 1. 1. 3. 3. 1. 2. 1. 0. 4. 1. 3. 5. 1. 0. 2. 2. 5.\n",
      " 3. 3. 2. 1. 2. 2. 2. 1. 2. 3. 0. 4. 2. 1. 0. 1. 2. 1. 0. 2. 1. 1. 2. 5.\n",
      " 1. 1. 1. 0. 2. 2. 2. 4. 5. 1. 1. 0. 3. 2. 2. 1. 4. 3. 1. 1. 5. 1. 5. 1.\n",
      " 2. 3. 1. 7. 3. 2. 0. 1. 3. 2. 3. 1. 2. 5. 3. 2. 0. 6. 4. 1. 3. 0. 1. 4.\n",
      " 1. 3. 1. 1. 2. 6. 3. 2. 2. 4. 1. 2. 1. 0. 1. 2. 2. 0. 2. 3. 2. 1. 1. 7.\n",
      " 0. 1. 2. 3. 3. 3. 2. 2. 2. 3. 3. 3. 0. 1. 1. 2. 2. 3. 2. 2. 4. 2. 3. 0.\n",
      " 4. 2. 1. 0. 3. 0. 1. 0. 2. 2. 2. 4. 5. 2. 2. 3. 1. 1. 2. 3. 2. 2. 1. 0.\n",
      " 3. 2. 4. 4. 1. 5. 2. 4. 2. 1. 1. 0. 1. 1. 2. 1. 1. 4. 1. 2. 2. 3. 1. 1.\n",
      " 2. 0. 2. 1. 1. 6. 1. 1. 1. 4. 2. 1. 4. 0. 3. 1. 3. 1. 2. 2. 0. 0. 3. 2.\n",
      " 1. 3. 2. 2. 2. 3. 1. 6. 0. 3. 2. 2. 3. 2. 4. 3. 1. 2. 1. 3. 1. 4. 1. 2.\n",
      " 2. 2. 2. 4. 2. 5. 3. 1. 1. 1. 5. 3. 1. 2. 3. 5. 2. 2. 4. 4. 2. 4. 1. 4.\n",
      " 2. 1. 0. 1. 1. 1. 2. 0. 2. 1. 1. 3. 0. 1. 3. 4. 0. 5. 2. 3. 0. 1. 2. 0.\n",
      " 1. 2. 0. 1. 2. 2. 3. 3. 1. 4. 0. 4. 1. 2. 0. 1. 4. 3. 2. 1. 2. 1. 4. 3.\n",
      " 0. 0. 1. 4. 2. 1. 2. 0. 0. 2. 1. 1. 2. 1. 1. 3. 0. 3. 1. 3. 2. 1. 1. 0.\n",
      " 2. 3. 5. 1. 3. 1. 1. 0. 1. 2. 1. 2. 2. 2. 1. 2. 1. 2. 2. 3. 2. 3. 1. 0.\n",
      " 1. 1. 4. 2. 1. 1. 1. 3. 2. 1. 4. 2. 0. 2. 3. 3. 2. 4. 3. 1. 0. 0. 4. 6.\n",
      " 3. 1. 3. 3. 2. 3. 4. 1. 0. 1. 2. 3. 1. 3. 2. 4. 0. 2. 2. 1. 5. 3. 1. 0.\n",
      " 0. 1. 1. 0. 1. 2. 0. 2. 4. 2. 1. 0. 4. 3. 2. 4. 1. 1. 2. 2. 2. 5. 4. 2.\n",
      " 0. 1. 2. 3. 1. 0. 3. 3. 3. 1. 1. 1. 0. 2. 3. 3. 1. 0. 1. 2. 1. 3. 3. 1.\n",
      " 5. 2. 2. 1. 3. 2. 4. 1. 3. 3. 5. 1. 2. 2. 4. 2. 1. 1. 3. 0. 3. 1. 1. 1.\n",
      " 3. 1. 5. 3. 0. 2. 1. 1. 2. 3. 2. 0. 2. 4. 1. 3. 2. 1. 2. 1. 2. 3. 2. 3.\n",
      " 1. 1. 1. 0. 1. 2. 1. 2. 2. 1. 0. 2. 3. 1. 2. 1. 1. 4. 4. 4. 1. 2. 2. 3.\n",
      " 0. 5. 5. 4. 1. 1. 4. 4. 2. 1. 1. 1. 2. 3. 1. 3. 1. 3. 5. 2. 2. 5. 0. 6.\n",
      " 2. 2. 1. 1. 2. 1. 2. 2. 5. 2. 1. 1. 2. 2. 2. 3. 2. 1. 0. 0. 2. 3. 0. 3.\n",
      " 1. 4. 2. 2. 3. 1. 0. 1. 1. 4. 2. 2. 0. 3. 0. 1. 2. 0. 3. 0. 1. 1. 0. 2.\n",
      " 5. 4. 0. 3. 0. 1. 4. 2. 0. 2. 1. 4. 1. 2. 2. 3. 3. 3. 2. 3. 2. 6. 3. 5.\n",
      " 3. 2. 3. 2. 2. 0. 1. 4. 1. 4. 3. 2. 0. 1. 2. 6. 3. 3. 2. 3. 2. 2. 4. 2.\n",
      " 1. 6. 3. 0. 0. 1. 4. 2. 5. 2. 2. 0. 2. 0. 2. 0.]\n"
     ]
    },
    {
     "data": {
      "text/plain": [
       "(array([136., 281., 266.,   0., 173.,  86.,   0.,  41.,  14.,   3.]),\n",
       " array([0. , 0.7, 1.4, 2.1, 2.8, 3.5, 4.2, 4.9, 5.6, 6.3, 7. ]),\n",
       " <a list of 10 Patch objects>)"
      ]
     },
     "execution_count": 106,
     "metadata": {},
     "output_type": "execute_result"
    },
    {
     "data": {
      "image/png": "[encoded data removed]",
      "text/plain": [
       "<Figure size 432x288 with 1 Axes>"
      ]
     },
     "metadata": {
      "needs_background": "light"
     },
     "output_type": "display_data"
    }
   ],
   "source": [
    "graph = Graph(1000)\n",
    "graph.ER(0.002)\n",
    "t =graph.vertex_degree()\n",
    "print(t)\n",
    "plt.hist(t)"
   ]
  },
  {
   "cell_type": "code",
   "execution_count": null,
   "metadata": {},
   "outputs": [],
   "source": []
  },
  {
   "cell_type": "code",
   "execution_count": null,
   "metadata": {},
   "outputs": [],
   "source": []
  }
 ],
 "metadata": {
  "kernelspec": {
   "display_name": "Python 3",
   "language": "python",
   "name": "python3"
  },
  "language_info": {
   "codemirror_mode": {
    "name": "ipython",
    "version": 3
   },
   "file_extension": ".py",
   "mimetype": "text/x-python",
   "name": "python",
   "nbconvert_exporter": "python",
   "pygments_lexer": "ipython3",
   "version": "3.7.4"
  }
 },
 "nbformat": 4,
 "nbformat_minor": 2
}
